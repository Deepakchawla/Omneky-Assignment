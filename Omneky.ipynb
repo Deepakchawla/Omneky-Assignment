{
  "nbformat": 4,
  "nbformat_minor": 5,
  "metadata": {
    "kernelspec": {
      "display_name": "Python 3",
      "language": "python",
      "name": "python3"
    },
    "language_info": {
      "codemirror_mode": {
        "name": "ipython",
        "version": 3
      },
      "file_extension": ".py",
      "mimetype": "text/x-python",
      "name": "python",
      "nbconvert_exporter": "python",
      "pygments_lexer": "ipython3",
      "version": "3.8.8"
    },
    "varInspector": {
      "cols": {
        "lenName": 16,
        "lenType": 16,
        "lenVar": 40
      },
      "kernels_config": {
        "python": {
          "delete_cmd_postfix": "",
          "delete_cmd_prefix": "del ",
          "library": "var_list.py",
          "varRefreshCmd": "print(var_dic_list())"
        },
        "r": {
          "delete_cmd_postfix": ") ",
          "delete_cmd_prefix": "rm(",
          "library": "var_list.r",
          "varRefreshCmd": "cat(var_dic_list()) "
        }
      },
      "types_to_exclude": [
        "module",
        "function",
        "builtin_function_or_method",
        "instance",
        "_Feature"
      ],
      "window_display": false
    },
    "colab": {
      "name": "Omneky (1).ipynb",
      "provenance": []
    }
  },
  "cells": [
    {
      "cell_type": "code",
      "metadata": {
        "ExecuteTime": {
          "end_time": "2021-10-02T08:29:28.964087Z",
          "start_time": "2021-10-02T08:29:28.913667Z"
        },
        "id": "e133c20c"
      },
      "source": [
        "import pandas as pd \n",
        "import numpy as np \n",
        "import seaborn as sb\n",
        "import time \n",
        "\n",
        "\n",
        "train = pd.read_csv(\"training_data.csv\")\n",
        "test = pd.read_csv('test_data.csv')\n",
        "\n",
        "train['created_at'] = pd.to_datetime(train['created_at'], errors='coerce')\n",
        "test['created_at'] = pd.to_datetime(test['created_at'], errors='coerce')\n",
        "test = test.loc[:, ~test.columns.str.contains('^Unnamed')]"
      ],
      "id": "e133c20c",
      "execution_count": 3,
      "outputs": []
    },
    {
      "cell_type": "code",
      "metadata": {
        "ExecuteTime": {
          "end_time": "2021-10-02T08:29:29.099393Z",
          "start_time": "2021-10-02T08:29:29.083716Z"
        },
        "id": "3451c6cd",
        "colab": {
          "base_uri": "https://localhost:8080/",
          "height": 501
        },
        "outputId": "30cf74f5-c3d1-4e92-a33d-0f13bde9e288"
      },
      "source": [
        "train.sample(9)"
      ],
      "id": "3451c6cd",
      "execution_count": 4,
      "outputs": [
        {
          "output_type": "execute_result",
          "data": {
            "text/html": [
              "<div>\n",
              "<style scoped>\n",
              "    .dataframe tbody tr th:only-of-type {\n",
              "        vertical-align: middle;\n",
              "    }\n",
              "\n",
              "    .dataframe tbody tr th {\n",
              "        vertical-align: top;\n",
              "    }\n",
              "\n",
              "    .dataframe thead th {\n",
              "        text-align: right;\n",
              "    }\n",
              "</style>\n",
              "<table border=\"1\" class=\"dataframe\">\n",
              "  <thead>\n",
              "    <tr style=\"text-align: right;\">\n",
              "      <th></th>\n",
              "      <th>patient_id</th>\n",
              "      <th>standard_lab_parameter_name</th>\n",
              "      <th>parameter_value</th>\n",
              "      <th>unit</th>\n",
              "      <th>created_at</th>\n",
              "      <th>reference_high</th>\n",
              "      <th>reference_low</th>\n",
              "      <th>age_group</th>\n",
              "      <th>gender</th>\n",
              "    </tr>\n",
              "  </thead>\n",
              "  <tbody>\n",
              "    <tr>\n",
              "      <th>6329</th>\n",
              "      <td>6329</td>\n",
              "      <td>Chloride</td>\n",
              "      <td>104.90</td>\n",
              "      <td>mmol/l</td>\n",
              "      <td>2019-09-13 06:43:54.507890+00:00</td>\n",
              "      <td>107.00</td>\n",
              "      <td>98.00</td>\n",
              "      <td>child</td>\n",
              "      <td>male</td>\n",
              "    </tr>\n",
              "    <tr>\n",
              "      <th>6504</th>\n",
              "      <td>6504</td>\n",
              "      <td>Sodium</td>\n",
              "      <td>142.30</td>\n",
              "      <td>mmol/l</td>\n",
              "      <td>2019-06-13 12:08:54.068000</td>\n",
              "      <td>145.00</td>\n",
              "      <td>136.00</td>\n",
              "      <td>adult</td>\n",
              "      <td>male</td>\n",
              "    </tr>\n",
              "    <tr>\n",
              "      <th>2871</th>\n",
              "      <td>2871</td>\n",
              "      <td>WBC</td>\n",
              "      <td>6.93</td>\n",
              "      <td>x 10³ / µl</td>\n",
              "      <td>2019-01-26 12:31:05.757000</td>\n",
              "      <td>10.00</td>\n",
              "      <td>4.00</td>\n",
              "      <td>adult</td>\n",
              "      <td>male</td>\n",
              "    </tr>\n",
              "    <tr>\n",
              "      <th>1776</th>\n",
              "      <td>1776</td>\n",
              "      <td>Chloride</td>\n",
              "      <td>98.00</td>\n",
              "      <td>mmol/l</td>\n",
              "      <td>2019-11-24 20:30:54.288000</td>\n",
              "      <td>107.00</td>\n",
              "      <td>98.00</td>\n",
              "      <td>adult</td>\n",
              "      <td>male</td>\n",
              "    </tr>\n",
              "    <tr>\n",
              "      <th>6992</th>\n",
              "      <td>6992</td>\n",
              "      <td>T4</td>\n",
              "      <td>6.00</td>\n",
              "      <td>µg/dl</td>\n",
              "      <td>2019-09-03 12:33:25.260000</td>\n",
              "      <td>12.00</td>\n",
              "      <td>4.50</td>\n",
              "      <td>old</td>\n",
              "      <td>male</td>\n",
              "    </tr>\n",
              "    <tr>\n",
              "      <th>2560</th>\n",
              "      <td>2560</td>\n",
              "      <td>Sodium</td>\n",
              "      <td>140.00</td>\n",
              "      <td>mmol/l</td>\n",
              "      <td>2019-11-29 08:38:20.811713+00:00</td>\n",
              "      <td>145.00</td>\n",
              "      <td>135.00</td>\n",
              "      <td>old</td>\n",
              "      <td>male</td>\n",
              "    </tr>\n",
              "    <tr>\n",
              "      <th>2496</th>\n",
              "      <td>2496</td>\n",
              "      <td>T4</td>\n",
              "      <td>9.70</td>\n",
              "      <td>μg/dl</td>\n",
              "      <td>2019-11-25 05:59:30.922351+00:00</td>\n",
              "      <td>11.72</td>\n",
              "      <td>4.87</td>\n",
              "      <td>child</td>\n",
              "      <td>male</td>\n",
              "    </tr>\n",
              "    <tr>\n",
              "      <th>8609</th>\n",
              "      <td>8609</td>\n",
              "      <td>SGPT</td>\n",
              "      <td>52.00</td>\n",
              "      <td>u/l</td>\n",
              "      <td>2019-04-14 13:22:57.407000</td>\n",
              "      <td>45.00</td>\n",
              "      <td>0.00</td>\n",
              "      <td>adult</td>\n",
              "      <td>male</td>\n",
              "    </tr>\n",
              "    <tr>\n",
              "      <th>7418</th>\n",
              "      <td>7418</td>\n",
              "      <td>SGPT</td>\n",
              "      <td>36.00</td>\n",
              "      <td>u/l</td>\n",
              "      <td>2019-09-01 14:17:17.519000</td>\n",
              "      <td>55.00</td>\n",
              "      <td>0.00</td>\n",
              "      <td>adult</td>\n",
              "      <td>male</td>\n",
              "    </tr>\n",
              "  </tbody>\n",
              "</table>\n",
              "</div>"
            ],
            "text/plain": [
              "      patient_id standard_lab_parameter_name  ...  age_group gender\n",
              "6329        6329                    Chloride  ...      child   male\n",
              "6504        6504                      Sodium  ...      adult   male\n",
              "2871        2871                         WBC  ...      adult   male\n",
              "1776        1776                    Chloride  ...      adult   male\n",
              "6992        6992                          T4  ...        old   male\n",
              "2560        2560                      Sodium  ...        old   male\n",
              "2496        2496                          T4  ...      child   male\n",
              "8609        8609                        SGPT  ...      adult   male\n",
              "7418        7418                        SGPT  ...      adult   male\n",
              "\n",
              "[9 rows x 9 columns]"
            ]
          },
          "metadata": {},
          "execution_count": 4
        }
      ]
    },
    {
      "cell_type": "markdown",
      "metadata": {
        "id": "78397559"
      },
      "source": [
        "## Info about dataset"
      ],
      "id": "78397559"
    },
    {
      "cell_type": "code",
      "metadata": {
        "ExecuteTime": {
          "end_time": "2021-10-02T08:29:29.957251Z",
          "start_time": "2021-10-02T08:29:29.933571Z"
        },
        "id": "77dbed9f",
        "outputId": "8704da3c-affb-4027-9425-a3563501407b"
      },
      "source": [
        "train.describe().T "
      ],
      "id": "77dbed9f",
      "execution_count": null,
      "outputs": [
        {
          "data": {
            "text/html": [
              "<div>\n",
              "<style scoped>\n",
              "    .dataframe tbody tr th:only-of-type {\n",
              "        vertical-align: middle;\n",
              "    }\n",
              "\n",
              "    .dataframe tbody tr th {\n",
              "        vertical-align: top;\n",
              "    }\n",
              "\n",
              "    .dataframe thead th {\n",
              "        text-align: right;\n",
              "    }\n",
              "</style>\n",
              "<table border=\"1\" class=\"dataframe\">\n",
              "  <thead>\n",
              "    <tr style=\"text-align: right;\">\n",
              "      <th></th>\n",
              "      <th>count</th>\n",
              "      <th>mean</th>\n",
              "      <th>std</th>\n",
              "      <th>min</th>\n",
              "      <th>25%</th>\n",
              "      <th>50%</th>\n",
              "      <th>75%</th>\n",
              "      <th>max</th>\n",
              "    </tr>\n",
              "  </thead>\n",
              "  <tbody>\n",
              "    <tr>\n",
              "      <th>patient_id</th>\n",
              "      <td>10000.0</td>\n",
              "      <td>4999.500000</td>\n",
              "      <td>2886.895680</td>\n",
              "      <td>0.00</td>\n",
              "      <td>2499.75</td>\n",
              "      <td>4999.50</td>\n",
              "      <td>7499.25</td>\n",
              "      <td>9999.0</td>\n",
              "    </tr>\n",
              "    <tr>\n",
              "      <th>parameter_value</th>\n",
              "      <td>10000.0</td>\n",
              "      <td>356.897325</td>\n",
              "      <td>9289.389443</td>\n",
              "      <td>-71.00</td>\n",
              "      <td>6.70</td>\n",
              "      <td>8.83</td>\n",
              "      <td>101.00</td>\n",
              "      <td>920000.0</td>\n",
              "    </tr>\n",
              "    <tr>\n",
              "      <th>reference_high</th>\n",
              "      <td>10000.0</td>\n",
              "      <td>372.848728</td>\n",
              "      <td>1800.575300</td>\n",
              "      <td>1.12</td>\n",
              "      <td>10.00</td>\n",
              "      <td>12.00</td>\n",
              "      <td>107.00</td>\n",
              "      <td>15000.0</td>\n",
              "    </tr>\n",
              "    <tr>\n",
              "      <th>reference_low</th>\n",
              "      <td>10000.0</td>\n",
              "      <td>162.951938</td>\n",
              "      <td>712.506331</td>\n",
              "      <td>0.00</td>\n",
              "      <td>4.00</td>\n",
              "      <td>4.50</td>\n",
              "      <td>98.00</td>\n",
              "      <td>5000.0</td>\n",
              "    </tr>\n",
              "  </tbody>\n",
              "</table>\n",
              "</div>"
            ],
            "text/plain": [
              "                   count         mean          std  ...      50%      75%       max\n",
              "patient_id       10000.0  4999.500000  2886.895680  ...  4999.50  7499.25    9999.0\n",
              "parameter_value  10000.0   356.897325  9289.389443  ...     8.83   101.00  920000.0\n",
              "reference_high   10000.0   372.848728  1800.575300  ...    12.00   107.00   15000.0\n",
              "reference_low    10000.0   162.951938   712.506331  ...     4.50    98.00    5000.0\n",
              "\n",
              "[4 rows x 8 columns]"
            ]
          },
          "execution_count": 204,
          "metadata": {},
          "output_type": "execute_result"
        }
      ]
    },
    {
      "cell_type": "code",
      "metadata": {
        "ExecuteTime": {
          "end_time": "2021-10-02T08:29:30.071552Z",
          "start_time": "2021-10-02T08:29:30.045704Z"
        },
        "id": "622591ce",
        "outputId": "354d4eee-e5ec-4110-d5f3-279a9b6156fb"
      },
      "source": [
        "test.describe().T "
      ],
      "id": "622591ce",
      "execution_count": null,
      "outputs": [
        {
          "data": {
            "text/html": [
              "<div>\n",
              "<style scoped>\n",
              "    .dataframe tbody tr th:only-of-type {\n",
              "        vertical-align: middle;\n",
              "    }\n",
              "\n",
              "    .dataframe tbody tr th {\n",
              "        vertical-align: top;\n",
              "    }\n",
              "\n",
              "    .dataframe thead th {\n",
              "        text-align: right;\n",
              "    }\n",
              "</style>\n",
              "<table border=\"1\" class=\"dataframe\">\n",
              "  <thead>\n",
              "    <tr style=\"text-align: right;\">\n",
              "      <th></th>\n",
              "      <th>count</th>\n",
              "      <th>mean</th>\n",
              "      <th>std</th>\n",
              "      <th>min</th>\n",
              "      <th>25%</th>\n",
              "      <th>50%</th>\n",
              "      <th>75%</th>\n",
              "      <th>max</th>\n",
              "    </tr>\n",
              "  </thead>\n",
              "  <tbody>\n",
              "    <tr>\n",
              "      <th>patient_id</th>\n",
              "      <td>10000.0</td>\n",
              "      <td>4999.500000</td>\n",
              "      <td>2886.895680</td>\n",
              "      <td>0.00</td>\n",
              "      <td>2499.75</td>\n",
              "      <td>4999.500</td>\n",
              "      <td>7499.25</td>\n",
              "      <td>9999.0</td>\n",
              "    </tr>\n",
              "    <tr>\n",
              "      <th>parameter_value</th>\n",
              "      <td>10000.0</td>\n",
              "      <td>198.373268</td>\n",
              "      <td>1382.265136</td>\n",
              "      <td>0.05</td>\n",
              "      <td>7.10</td>\n",
              "      <td>9.575</td>\n",
              "      <td>100.00</td>\n",
              "      <td>40250.0</td>\n",
              "    </tr>\n",
              "    <tr>\n",
              "      <th>reference_high</th>\n",
              "      <td>10000.0</td>\n",
              "      <td>250.165145</td>\n",
              "      <td>1429.726809</td>\n",
              "      <td>1.12</td>\n",
              "      <td>10.00</td>\n",
              "      <td>12.000</td>\n",
              "      <td>107.00</td>\n",
              "      <td>11000.0</td>\n",
              "    </tr>\n",
              "    <tr>\n",
              "      <th>reference_low</th>\n",
              "      <td>10000.0</td>\n",
              "      <td>112.542141</td>\n",
              "      <td>562.232336</td>\n",
              "      <td>0.00</td>\n",
              "      <td>4.00</td>\n",
              "      <td>4.500</td>\n",
              "      <td>98.00</td>\n",
              "      <td>4300.0</td>\n",
              "    </tr>\n",
              "  </tbody>\n",
              "</table>\n",
              "</div>"
            ],
            "text/plain": [
              "                   count         mean          std  ...       50%      75%      max\n",
              "patient_id       10000.0  4999.500000  2886.895680  ...  4999.500  7499.25   9999.0\n",
              "parameter_value  10000.0   198.373268  1382.265136  ...     9.575   100.00  40250.0\n",
              "reference_high   10000.0   250.165145  1429.726809  ...    12.000   107.00  11000.0\n",
              "reference_low    10000.0   112.542141   562.232336  ...     4.500    98.00   4300.0\n",
              "\n",
              "[4 rows x 8 columns]"
            ]
          },
          "execution_count": 205,
          "metadata": {},
          "output_type": "execute_result"
        }
      ]
    },
    {
      "cell_type": "code",
      "metadata": {
        "ExecuteTime": {
          "end_time": "2021-10-02T08:29:30.195723Z",
          "start_time": "2021-10-02T08:29:30.187160Z"
        },
        "id": "68e96647",
        "outputId": "6d243d59-e04a-4a01-919d-4fb2bae5ef69"
      },
      "source": [
        "train.info()"
      ],
      "id": "68e96647",
      "execution_count": null,
      "outputs": [
        {
          "name": "stdout",
          "output_type": "stream",
          "text": [
            "<class 'pandas.core.frame.DataFrame'>\n",
            "RangeIndex: 10000 entries, 0 to 9999\n",
            "Data columns (total 9 columns):\n",
            " #   Column                       Non-Null Count  Dtype  \n",
            "---  ------                       --------------  -----  \n",
            " 0   patient_id                   10000 non-null  int64  \n",
            " 1   standard_lab_parameter_name  10000 non-null  object \n",
            " 2   parameter_value              10000 non-null  float64\n",
            " 3   unit                         10000 non-null  object \n",
            " 4   created_at                   7057 non-null   object \n",
            " 5   reference_high               10000 non-null  float64\n",
            " 6   reference_low                10000 non-null  float64\n",
            " 7   age_group                    10000 non-null  object \n",
            " 8   gender                       10000 non-null  object \n",
            "dtypes: float64(3), int64(1), object(5)\n",
            "memory usage: 703.2+ KB\n"
          ]
        }
      ]
    },
    {
      "cell_type": "markdown",
      "metadata": {
        "id": "225acd95"
      },
      "source": [
        "## Visualize Age Group"
      ],
      "id": "225acd95"
    },
    {
      "cell_type": "code",
      "metadata": {
        "ExecuteTime": {
          "end_time": "2021-10-02T08:29:30.366102Z",
          "start_time": "2021-10-02T08:29:30.284210Z"
        },
        "id": "a9c37cb8",
        "outputId": "9f236f81-b3c9-4532-fb69-1a84cd3b486b"
      },
      "source": [
        "train['age_group'].value_counts().plot(kind='pie',figsize=(9,7))"
      ],
      "id": "a9c37cb8",
      "execution_count": null,
      "outputs": [
        {
          "data": {
            "text/plain": [
              "<AxesSubplot:ylabel='age_group'>"
            ]
          },
          "execution_count": 207,
          "metadata": {},
          "output_type": "execute_result"
        },
        {
          "data": {
            "image/png": "[encoded data removed]",
            "text/plain": [
              "<Figure size 648x504 with 1 Axes>"
            ]
          },
          "metadata": {},
          "output_type": "display_data"
        }
      ]
    },
    {
      "cell_type": "code",
      "metadata": {
        "ExecuteTime": {
          "end_time": "2021-10-02T08:29:30.536307Z",
          "start_time": "2021-10-02T08:29:30.446756Z"
        },
        "id": "a41f68ab",
        "outputId": "318d3454-abd5-4cf5-f67e-39501d3f41c1"
      },
      "source": [
        "train['age_group'].value_counts().plot(kind='box',figsize=(9,7))"
      ],
      "id": "a41f68ab",
      "execution_count": null,
      "outputs": [
        {
          "data": {
            "text/plain": [
              "<AxesSubplot:>"
            ]
          },
          "execution_count": 208,
          "metadata": {},
          "output_type": "execute_result"
        },
        {
          "data": {
            "image/png": "[encoded data removed]",
            "text/plain": [
              "<Figure size 648x504 with 1 Axes>"
            ]
          },
          "metadata": {},
          "output_type": "display_data"
        }
      ]
    },
    {
      "cell_type": "markdown",
      "metadata": {
        "id": "5e7da4a7"
      },
      "source": [
        "## Visualize Lab Parameter"
      ],
      "id": "5e7da4a7"
    },
    {
      "cell_type": "code",
      "metadata": {
        "ExecuteTime": {
          "end_time": "2021-10-02T08:29:30.694567Z",
          "start_time": "2021-10-02T08:29:30.615205Z"
        },
        "id": "3ce20593",
        "outputId": "3206ad21-ceed-47f5-ec2a-b2528f3fce38"
      },
      "source": [
        "train['standard_lab_parameter_name'].value_counts().plot(kind='box',figsize=(9,7))"
      ],
      "id": "3ce20593",
      "execution_count": null,
      "outputs": [
        {
          "data": {
            "text/plain": [
              "<AxesSubplot:>"
            ]
          },
          "execution_count": 209,
          "metadata": {},
          "output_type": "execute_result"
        },
        {
          "data": {
            "image/png": "[encoded data removed]",
            "text/plain": [
              "<Figure size 648x504 with 1 Axes>"
            ]
          },
          "metadata": {},
          "output_type": "display_data"
        }
      ]
    },
    {
      "cell_type": "code",
      "metadata": {
        "ExecuteTime": {
          "end_time": "2021-10-02T08:29:30.865788Z",
          "start_time": "2021-10-02T08:29:30.783190Z"
        },
        "id": "22b9841d",
        "outputId": "daa17208-5c53-455e-b971-fdde2dd63a64"
      },
      "source": [
        "train['standard_lab_parameter_name'].value_counts().plot(kind='pie',figsize=(9,7))"
      ],
      "id": "22b9841d",
      "execution_count": null,
      "outputs": [
        {
          "data": {
            "text/plain": [
              "<AxesSubplot:ylabel='standard_lab_parameter_name'>"
            ]
          },
          "execution_count": 210,
          "metadata": {},
          "output_type": "execute_result"
        },
        {
          "data": {
            "image/png": "[encoded data removed]",
            "text/plain": [
              "<Figure size 648x504 with 1 Axes>"
            ]
          },
          "metadata": {},
          "output_type": "display_data"
        }
      ]
    },
    {
      "cell_type": "markdown",
      "metadata": {
        "id": "1be18666"
      },
      "source": [
        "## Visualize Units in dataset"
      ],
      "id": "1be18666"
    },
    {
      "cell_type": "code",
      "metadata": {
        "ExecuteTime": {
          "end_time": "2021-10-02T08:29:31.216828Z",
          "start_time": "2021-10-02T08:29:30.956981Z"
        },
        "id": "49c8d5ef",
        "outputId": "49a6df2b-182d-4e39-8f53-dea52bf0e3d9"
      },
      "source": [
        "train.unit.value_counts().plot(kind='bar',figsize=(11,7))"
      ],
      "id": "49c8d5ef",
      "execution_count": null,
      "outputs": [
        {
          "data": {
            "text/plain": [
              "<AxesSubplot:>"
            ]
          },
          "execution_count": 211,
          "metadata": {},
          "output_type": "execute_result"
        },
        {
          "data": {
            "image/png": "[encoded data removed]",
            "text/plain": [
              "<Figure size 792x504 with 1 Axes>"
            ]
          },
          "metadata": {},
          "output_type": "display_data"
        }
      ]
    },
    {
      "cell_type": "markdown",
      "metadata": {
        "id": "9ebee6fa"
      },
      "source": [
        "## Visualize unit and lab parameters"
      ],
      "id": "9ebee6fa"
    },
    {
      "cell_type": "code",
      "metadata": {
        "ExecuteTime": {
          "end_time": "2021-10-02T08:29:31.670176Z",
          "start_time": "2021-10-02T08:29:31.322053Z"
        },
        "id": "4fb18289",
        "outputId": "ae79c6cf-ba45-4b1d-84ec-b52dfa402c39"
      },
      "source": [
        "train.groupby(['standard_lab_parameter_name',\"unit\"]).agg({\"unit\":\"count\"}).plot(kind='bar',figsize=(11,9))"
      ],
      "id": "4fb18289",
      "execution_count": null,
      "outputs": [
        {
          "data": {
            "text/plain": [
              "<AxesSubplot:xlabel='standard_lab_parameter_name,unit'>"
            ]
          },
          "execution_count": 212,
          "metadata": {},
          "output_type": "execute_result"
        },
        {
          "data": {
            "image/png": "[encoded data removed]",
            "text/plain": [
              "<Figure size 792x648 with 1 Axes>"
            ]
          },
          "metadata": {},
          "output_type": "display_data"
        }
      ]
    },
    {
      "cell_type": "code",
      "metadata": {
        "ExecuteTime": {
          "end_time": "2021-10-02T08:29:31.766669Z",
          "start_time": "2021-10-02T08:29:31.765054Z"
        },
        "id": "c81ef748"
      },
      "source": [
        "# train.drop(['patient_id'],axis=1,inplace=True)\n",
        "# test.drop(['patient_id'],axis=1,inplace=True)"
      ],
      "id": "c81ef748",
      "execution_count": null,
      "outputs": []
    },
    {
      "cell_type": "code",
      "metadata": {
        "ExecuteTime": {
          "end_time": "2021-10-02T08:29:32.250149Z",
          "start_time": "2021-10-02T08:29:31.847252Z"
        },
        "id": "ab971e42",
        "outputId": "d65492e7-115c-4977-c61d-f0a22363b593"
      },
      "source": [
        "train.hist(figsize=(10,8))"
      ],
      "id": "ab971e42",
      "execution_count": null,
      "outputs": [
        {
          "data": {
            "text/plain": [
              "array([[<AxesSubplot:title={'center':'patient_id'}>,\n",
              "        <AxesSubplot:title={'center':'parameter_value'}>],\n",
              "       [<AxesSubplot:title={'center':'reference_high'}>,\n",
              "        <AxesSubplot:title={'center':'reference_low'}>]], dtype=object)"
            ]
          },
          "execution_count": 214,
          "metadata": {},
          "output_type": "execute_result"
        },
        {
          "data": {
            "image/png": "[encoded data removed]",
            "text/plain": [
              "<Figure size 720x576 with 4 Axes>"
            ]
          },
          "metadata": {},
          "output_type": "display_data"
        }
      ]
    },
    {
      "cell_type": "markdown",
      "metadata": {
        "id": "b10588f8"
      },
      "source": [
        "## Plotting  Correlation"
      ],
      "id": "b10588f8"
    },
    {
      "cell_type": "code",
      "metadata": {
        "ExecuteTime": {
          "end_time": "2021-10-02T08:29:32.489755Z",
          "start_time": "2021-10-02T08:29:32.329408Z"
        },
        "id": "1370ce5e",
        "outputId": "1ef1efe2-e6a6-41f6-b738-7e6e09d69c34"
      },
      "source": [
        "sb.heatmap(train.corr(), annot = True)"
      ],
      "id": "1370ce5e",
      "execution_count": null,
      "outputs": [
        {
          "data": {
            "text/plain": [
              "<AxesSubplot:>"
            ]
          },
          "execution_count": 215,
          "metadata": {},
          "output_type": "execute_result"
        },
        {
          "data": {
            "image/png": "[encoded data removed]",
            "text/plain": [
              "<Figure size 432x288 with 2 Axes>"
            ]
          },
          "metadata": {},
          "output_type": "display_data"
        }
      ]
    },
    {
      "cell_type": "code",
      "metadata": {
        "ExecuteTime": {
          "end_time": "2021-10-02T08:29:32.675919Z",
          "start_time": "2021-10-02T08:29:32.579807Z"
        },
        "id": "6f1cd54b",
        "outputId": "c8474be4-93a3-4e49-8480-a03385fc0277"
      },
      "source": [
        "train['gender'].value_counts().plot(kind='bar',figsize=(7,5))"
      ],
      "id": "6f1cd54b",
      "execution_count": null,
      "outputs": [
        {
          "data": {
            "text/plain": [
              "<AxesSubplot:>"
            ]
          },
          "execution_count": 216,
          "metadata": {},
          "output_type": "execute_result"
        },
        {
          "data": {
            "image/png": "[encoded data removed]",
            "text/plain": [
              "<Figure size 504x360 with 1 Axes>"
            ]
          },
          "metadata": {},
          "output_type": "display_data"
        }
      ]
    },
    {
      "cell_type": "code",
      "metadata": {
        "ExecuteTime": {
          "end_time": "2021-10-02T08:29:32.872494Z",
          "start_time": "2021-10-02T08:29:32.761424Z"
        },
        "id": "f99c6c86",
        "outputId": "156ad4a1-e7c1-42bf-cce8-b64b00c5278f"
      },
      "source": [
        "#Chlorine\n",
        "\n",
        "train.standard_lab_parameter_name.value_counts().plot(kind='bar',figsize=(7,5))"
      ],
      "id": "f99c6c86",
      "execution_count": null,
      "outputs": [
        {
          "data": {
            "text/plain": [
              "<AxesSubplot:>"
            ]
          },
          "execution_count": 217,
          "metadata": {},
          "output_type": "execute_result"
        },
        {
          "data": {
            "image/png": "[encoded data removed]",
            "text/plain": [
              "<Figure size 504x360 with 1 Axes>"
            ]
          },
          "metadata": {},
          "output_type": "display_data"
        }
      ]
    },
    {
      "cell_type": "markdown",
      "metadata": {
        "id": "f86296ed"
      },
      "source": [
        "## Organizing data in model training format"
      ],
      "id": "f86296ed"
    },
    {
      "cell_type": "code",
      "metadata": {
        "ExecuteTime": {
          "end_time": "2021-10-02T08:29:33.372160Z",
          "start_time": "2021-10-02T08:29:33.338145Z"
        },
        "id": "f7475aee"
      },
      "source": [
        "train.drop(['created_at','patient_id'],axis=1,inplace=True)\n",
        "\n",
        "gender_encode = {'male': 1,'female': 0}\n",
        "train['gender'] = train['gender'].str.lower()\n",
        "\n",
        "train['gender'] = train['gender'].replace(gender_encode)\n",
        "\n",
        "x = train.drop(['gender'],axis=1)\n",
        "x = pd.get_dummies(x) \n",
        "y = train['gender']\n",
        "\n",
        "from sklearn.model_selection import train_test_split\n",
        "x_train,x_test, y_train, y_test = train_test_split(x,y,test_size=0.20,random_state=2)\n"
      ],
      "id": "f7475aee",
      "execution_count": null,
      "outputs": []
    },
    {
      "cell_type": "code",
      "metadata": {
        "ExecuteTime": {
          "end_time": "2021-10-02T08:29:34.052786Z",
          "start_time": "2021-10-02T08:29:34.048201Z"
        },
        "id": "db75d3ef"
      },
      "source": [
        "# train['Year'] = train['created_at'].dt.year\n",
        "# train['Month'] = train['created_at'].dt.month\n",
        "# train['Day'] = train['created_at'].dt.day"
      ],
      "id": "db75d3ef",
      "execution_count": null,
      "outputs": []
    },
    {
      "cell_type": "code",
      "metadata": {
        "ExecuteTime": {
          "end_time": "2021-10-02T08:29:34.503700Z",
          "start_time": "2021-10-02T08:29:34.495720Z"
        },
        "id": "1c4d413a",
        "outputId": "d9f8036e-2031-439a-d31d-36286dcc41c4"
      },
      "source": [
        "x_train.shape,  y_train.shape"
      ],
      "id": "1c4d413a",
      "execution_count": null,
      "outputs": [
        {
          "data": {
            "text/plain": [
              "((8000, 42), (8000,))"
            ]
          },
          "execution_count": 220,
          "metadata": {},
          "output_type": "execute_result"
        }
      ]
    },
    {
      "cell_type": "markdown",
      "metadata": {
        "id": "32af7e42"
      },
      "source": [
        "## Using RandomForest to train model"
      ],
      "id": "32af7e42"
    },
    {
      "cell_type": "code",
      "metadata": {
        "ExecuteTime": {
          "end_time": "2021-10-02T08:29:36.006898Z",
          "start_time": "2021-10-02T08:29:35.499524Z"
        },
        "id": "6789b0d5"
      },
      "source": [
        "from sklearn.ensemble import RandomForestClassifier\n",
        "clf=RandomForestClassifier(n_estimators=100)\n",
        "clf.fit(x_train,y_train)\n",
        "\n",
        "y_pred=clf.predict(x_test)"
      ],
      "id": "6789b0d5",
      "execution_count": null,
      "outputs": []
    },
    {
      "cell_type": "code",
      "metadata": {
        "ExecuteTime": {
          "end_time": "2021-10-02T08:29:38.733050Z",
          "start_time": "2021-10-02T08:29:38.720801Z"
        },
        "id": "78b38869",
        "outputId": "1241a32d-b031-4961-b769-4c5f5c135a0b"
      },
      "source": [
        "#Import scikit-learn metrics module for accuracy calculation\n",
        "from sklearn import metrics\n",
        "# Model Accuracy, how often is the classifier correct?\n",
        "print(\"Accuracy:\",metrics.accuracy_score(y_test, y_pred))"
      ],
      "id": "78b38869",
      "execution_count": null,
      "outputs": [
        {
          "name": "stdout",
          "output_type": "stream",
          "text": [
            "Accuracy: 0.8635\n"
          ]
        }
      ]
    },
    {
      "cell_type": "code",
      "metadata": {
        "ExecuteTime": {
          "end_time": "2021-10-02T11:44:39.531651Z",
          "start_time": "2021-10-02T11:41:35.021174Z"
        },
        "id": "1e081a79"
      },
      "source": [
        "from sklearn.model_selection import learning_curve\n",
        "sizes, training_scores, testing_scores = learning_curve(clf, x, y, cv=10, scoring='accuracy', train_sizes=np.linspace(0.01, 1.0, 50))\n"
      ],
      "id": "1e081a79",
      "execution_count": null,
      "outputs": []
    },
    {
      "cell_type": "code",
      "metadata": {
        "ExecuteTime": {
          "end_time": "2021-10-02T11:52:30.007918Z",
          "start_time": "2021-10-02T11:52:29.663828Z"
        },
        "id": "84b70088",
        "outputId": "707e73f3-b145-4f13-8626-ec808509a778"
      },
      "source": [
        "import matplotlib.pyplot as plt\n",
        "\n",
        "# Mean and Standard Deviation of training scores\n",
        "mean_training = np.mean(training_scores, axis=1)\n",
        "Standard_Deviation_training = np.std(training_scores, axis=1)\n",
        "  \n",
        "# Mean and Standard Deviation of testing scores\n",
        "mean_testing = np.mean(testing_scores, axis=1)\n",
        "Standard_Deviation_testing = np.std(testing_scores, axis=1)\n",
        "  \n",
        "# dotted blue line is for training scores and green line is for cross-validation score\n",
        "plt.plot(sizes, mean_training, '--', color=\"b\",  label=\"Training score\")\n",
        "plt.plot(sizes, mean_testing, color=\"g\", label=\"Cross-validation score\")\n",
        "  \n",
        "# Drawing plot\n",
        "plt.title(\"LEARNING CURVE FOR KNN Classifier\")\n",
        "plt.xlabel(\"Training Set Size\"), plt.ylabel(\"Accuracy Score\"), plt.legend(loc=\"best\")\n",
        "plt.tight_layout()\n",
        "plt.show()"
      ],
      "id": "84b70088",
      "execution_count": null,
      "outputs": [
        {
          "data": {
            "image/png": "[encoded data removed]",
            "text/plain": [
              "<Figure size 576x396 with 1 Axes>"
            ]
          },
          "metadata": {},
          "output_type": "display_data"
        }
      ]
    },
    {
      "cell_type": "markdown",
      "metadata": {
        "id": "ec73d8fc"
      },
      "source": [
        "## Chloride Analysis"
      ],
      "id": "ec73d8fc"
    },
    {
      "cell_type": "code",
      "metadata": {
        "ExecuteTime": {
          "end_time": "2021-10-02T08:58:02.833166Z",
          "start_time": "2021-10-02T08:58:02.776421Z"
        },
        "id": "8c5ff1f8",
        "colab": {
          "base_uri": "https://localhost:8080/",
          "height": 204
        },
        "outputId": "28d69c26-188b-474c-f8db-62a0276cc2db"
      },
      "source": [
        "train = pd.read_csv(\"training_data.csv\")\n",
        "test = pd.read_csv('test_data.csv')\n",
        "\n",
        "test = test.loc[:, ~test.columns.str.contains('^Unnamed')]\n",
        "\n",
        "\n",
        "data = pd.concat([train,test],axis=0)\n",
        "data.sample(5)"
      ],
      "id": "8c5ff1f8",
      "execution_count": 41,
      "outputs": [
        {
          "output_type": "execute_result",
          "data": {
            "text/html": [
              "<div>\n",
              "<style scoped>\n",
              "    .dataframe tbody tr th:only-of-type {\n",
              "        vertical-align: middle;\n",
              "    }\n",
              "\n",
              "    .dataframe tbody tr th {\n",
              "        vertical-align: top;\n",
              "    }\n",
              "\n",
              "    .dataframe thead th {\n",
              "        text-align: right;\n",
              "    }\n",
              "</style>\n",
              "<table border=\"1\" class=\"dataframe\">\n",
              "  <thead>\n",
              "    <tr style=\"text-align: right;\">\n",
              "      <th></th>\n",
              "      <th>patient_id</th>\n",
              "      <th>standard_lab_parameter_name</th>\n",
              "      <th>parameter_value</th>\n",
              "      <th>unit</th>\n",
              "      <th>created_at</th>\n",
              "      <th>reference_high</th>\n",
              "      <th>reference_low</th>\n",
              "      <th>age_group</th>\n",
              "      <th>gender</th>\n",
              "    </tr>\n",
              "  </thead>\n",
              "  <tbody>\n",
              "    <tr>\n",
              "      <th>5483</th>\n",
              "      <td>5483</td>\n",
              "      <td>Chloride</td>\n",
              "      <td>103.00</td>\n",
              "      <td>mmol/l</td>\n",
              "      <td>2019-05-05 12:11:58.097</td>\n",
              "      <td>107.0</td>\n",
              "      <td>98.0</td>\n",
              "      <td>adult</td>\n",
              "      <td>female</td>\n",
              "    </tr>\n",
              "    <tr>\n",
              "      <th>9882</th>\n",
              "      <td>9882</td>\n",
              "      <td>Sodium</td>\n",
              "      <td>141.00</td>\n",
              "      <td>mmol/l</td>\n",
              "      <td>2020-11-12 11:31:12.132213+00:00</td>\n",
              "      <td>145.0</td>\n",
              "      <td>136.0</td>\n",
              "      <td>old</td>\n",
              "      <td>NaN</td>\n",
              "    </tr>\n",
              "    <tr>\n",
              "      <th>4339</th>\n",
              "      <td>4339</td>\n",
              "      <td>T4</td>\n",
              "      <td>9.20</td>\n",
              "      <td>μg/dl</td>\n",
              "      <td>2019-12-22 19:50:31.002325+00:00</td>\n",
              "      <td>11.0</td>\n",
              "      <td>5.5</td>\n",
              "      <td>adult</td>\n",
              "      <td>male</td>\n",
              "    </tr>\n",
              "    <tr>\n",
              "      <th>7213</th>\n",
              "      <td>7213</td>\n",
              "      <td>WBC</td>\n",
              "      <td>11.20</td>\n",
              "      <td>10^3/μi</td>\n",
              "      <td>2020-11-02 18:31:41.394109+00:00</td>\n",
              "      <td>10.0</td>\n",
              "      <td>4.0</td>\n",
              "      <td>adult</td>\n",
              "      <td>NaN</td>\n",
              "    </tr>\n",
              "    <tr>\n",
              "      <th>6396</th>\n",
              "      <td>6396</td>\n",
              "      <td>WBC</td>\n",
              "      <td>4.74</td>\n",
              "      <td>10^3/μl</td>\n",
              "      <td>2019-09-07 05:22:10.486355+00:00</td>\n",
              "      <td>9.9</td>\n",
              "      <td>5.7</td>\n",
              "      <td>child</td>\n",
              "      <td>male</td>\n",
              "    </tr>\n",
              "  </tbody>\n",
              "</table>\n",
              "</div>"
            ],
            "text/plain": [
              "      patient_id standard_lab_parameter_name  ...  age_group  gender\n",
              "5483        5483                    Chloride  ...      adult  female\n",
              "9882        9882                      Sodium  ...        old     NaN\n",
              "4339        4339                          T4  ...      adult    male\n",
              "7213        7213                         WBC  ...      adult     NaN\n",
              "6396        6396                         WBC  ...      child    male\n",
              "\n",
              "[5 rows x 9 columns]"
            ]
          },
          "metadata": {},
          "execution_count": 41
        }
      ]
    },
    {
      "cell_type": "code",
      "metadata": {
        "ExecuteTime": {
          "end_time": "2021-10-02T08:59:16.385366Z",
          "start_time": "2021-10-02T08:59:16.339194Z"
        },
        "id": "39fc62d1",
        "colab": {
          "base_uri": "https://localhost:8080/",
          "height": 204
        },
        "outputId": "ce9c0fa9-cc9f-4743-8b61-b4687b087b0f"
      },
      "source": [
        "data = data.loc[data['standard_lab_parameter_name']=='Chloride']\n",
        "data.sample(5)"
      ],
      "id": "39fc62d1",
      "execution_count": 42,
      "outputs": [
        {
          "output_type": "execute_result",
          "data": {
            "text/html": [
              "<div>\n",
              "<style scoped>\n",
              "    .dataframe tbody tr th:only-of-type {\n",
              "        vertical-align: middle;\n",
              "    }\n",
              "\n",
              "    .dataframe tbody tr th {\n",
              "        vertical-align: top;\n",
              "    }\n",
              "\n",
              "    .dataframe thead th {\n",
              "        text-align: right;\n",
              "    }\n",
              "</style>\n",
              "<table border=\"1\" class=\"dataframe\">\n",
              "  <thead>\n",
              "    <tr style=\"text-align: right;\">\n",
              "      <th></th>\n",
              "      <th>patient_id</th>\n",
              "      <th>standard_lab_parameter_name</th>\n",
              "      <th>parameter_value</th>\n",
              "      <th>unit</th>\n",
              "      <th>created_at</th>\n",
              "      <th>reference_high</th>\n",
              "      <th>reference_low</th>\n",
              "      <th>age_group</th>\n",
              "      <th>gender</th>\n",
              "    </tr>\n",
              "  </thead>\n",
              "  <tbody>\n",
              "    <tr>\n",
              "      <th>1523</th>\n",
              "      <td>1523</td>\n",
              "      <td>Chloride</td>\n",
              "      <td>106.0</td>\n",
              "      <td>mmol/l</td>\n",
              "      <td>2020-11-07 00:47:42.315256+00:00</td>\n",
              "      <td>107.0</td>\n",
              "      <td>98.0</td>\n",
              "      <td>adult</td>\n",
              "      <td>NaN</td>\n",
              "    </tr>\n",
              "    <tr>\n",
              "      <th>2531</th>\n",
              "      <td>2531</td>\n",
              "      <td>Chloride</td>\n",
              "      <td>104.0</td>\n",
              "      <td>mmol/l</td>\n",
              "      <td>2020-10-26 16:08:58.443424+00:00</td>\n",
              "      <td>109.0</td>\n",
              "      <td>101.0</td>\n",
              "      <td>adult</td>\n",
              "      <td>NaN</td>\n",
              "    </tr>\n",
              "    <tr>\n",
              "      <th>8262</th>\n",
              "      <td>8262</td>\n",
              "      <td>Chloride</td>\n",
              "      <td>106.0</td>\n",
              "      <td>mmol/l</td>\n",
              "      <td>2020-11-06 04:05:58.956922+00:00</td>\n",
              "      <td>107.0</td>\n",
              "      <td>98.0</td>\n",
              "      <td>old</td>\n",
              "      <td>NaN</td>\n",
              "    </tr>\n",
              "    <tr>\n",
              "      <th>6045</th>\n",
              "      <td>6045</td>\n",
              "      <td>Chloride</td>\n",
              "      <td>96.0</td>\n",
              "      <td>mmol/l</td>\n",
              "      <td>2020-11-12 08:47:24.821478+00:00</td>\n",
              "      <td>107.0</td>\n",
              "      <td>98.0</td>\n",
              "      <td>old</td>\n",
              "      <td>NaN</td>\n",
              "    </tr>\n",
              "    <tr>\n",
              "      <th>7736</th>\n",
              "      <td>7736</td>\n",
              "      <td>Chloride</td>\n",
              "      <td>104.6</td>\n",
              "      <td>mmol/l</td>\n",
              "      <td>2019-05-27 06:31:19.390174+00:00</td>\n",
              "      <td>108.0</td>\n",
              "      <td>98.0</td>\n",
              "      <td>adult</td>\n",
              "      <td>male</td>\n",
              "    </tr>\n",
              "  </tbody>\n",
              "</table>\n",
              "</div>"
            ],
            "text/plain": [
              "      patient_id standard_lab_parameter_name  ...  age_group gender\n",
              "1523        1523                    Chloride  ...      adult    NaN\n",
              "2531        2531                    Chloride  ...      adult    NaN\n",
              "8262        8262                    Chloride  ...        old    NaN\n",
              "6045        6045                    Chloride  ...        old    NaN\n",
              "7736        7736                    Chloride  ...      adult   male\n",
              "\n",
              "[5 rows x 9 columns]"
            ]
          },
          "metadata": {},
          "execution_count": 42
        }
      ]
    },
    {
      "cell_type": "code",
      "metadata": {
        "ExecuteTime": {
          "end_time": "2021-10-02T09:00:24.110510Z",
          "start_time": "2021-10-02T09:00:23.966468Z"
        },
        "id": "9fcc1372",
        "colab": {
          "base_uri": "https://localhost:8080/",
          "height": 375
        },
        "outputId": "c54d362e-9ce8-491a-9b28-6bce95c30845"
      },
      "source": [
        "data.groupby(['gender']).agg({'standard_lab_parameter_name':'count'}).plot(kind='bar',figsize=(7,5))"
      ],
      "id": "9fcc1372",
      "execution_count": 62,
      "outputs": [
        {
          "output_type": "execute_result",
          "data": {
            "text/plain": [
              "<matplotlib.axes._subplots.AxesSubplot at 0x7f2531215b90>"
            ]
          },
          "metadata": {},
          "execution_count": 62
        },
        {
          "output_type": "display_data",
          "data": {
            "image/png": "[encoded data removed]",
            "text/plain": [
              "<Figure size 504x360 with 1 Axes>"
            ]
          },
          "metadata": {
            "needs_background": "light"
          }
        }
      ]
    },
    {
      "cell_type": "code",
      "metadata": {
        "colab": {
          "base_uri": "https://localhost:8080/",
          "height": 142
        },
        "id": "aOteO7y4KEya",
        "outputId": "51befc7e-d43b-4ac4-d557-d27929b97123"
      },
      "source": [
        "data_chloride_108_value = data.loc[data['parameter_value'] > 108]\n",
        "data_chloride_108_value.groupby(['gender']).agg({'standard_lab_parameter_name':'count'})"
      ],
      "id": "aOteO7y4KEya",
      "execution_count": 69,
      "outputs": [
        {
          "output_type": "execute_result",
          "data": {
            "text/html": [
              "<div>\n",
              "<style scoped>\n",
              "    .dataframe tbody tr th:only-of-type {\n",
              "        vertical-align: middle;\n",
              "    }\n",
              "\n",
              "    .dataframe tbody tr th {\n",
              "        vertical-align: top;\n",
              "    }\n",
              "\n",
              "    .dataframe thead th {\n",
              "        text-align: right;\n",
              "    }\n",
              "</style>\n",
              "<table border=\"1\" class=\"dataframe\">\n",
              "  <thead>\n",
              "    <tr style=\"text-align: right;\">\n",
              "      <th></th>\n",
              "      <th>standard_lab_parameter_name</th>\n",
              "    </tr>\n",
              "    <tr>\n",
              "      <th>gender</th>\n",
              "      <th></th>\n",
              "    </tr>\n",
              "  </thead>\n",
              "  <tbody>\n",
              "    <tr>\n",
              "      <th>female</th>\n",
              "      <td>4</td>\n",
              "    </tr>\n",
              "    <tr>\n",
              "      <th>male</th>\n",
              "      <td>25</td>\n",
              "    </tr>\n",
              "  </tbody>\n",
              "</table>\n",
              "</div>"
            ],
            "text/plain": [
              "        standard_lab_parameter_name\n",
              "gender                             \n",
              "female                            4\n",
              "male                             25"
            ]
          },
          "metadata": {},
          "execution_count": 69
        }
      ]
    },
    {
      "cell_type": "code",
      "metadata": {
        "colab": {
          "base_uri": "https://localhost:8080/",
          "height": 375
        },
        "id": "XM4r7ESTQeLx",
        "outputId": "29f4537d-223c-4de7-cb34-1a9826b44624"
      },
      "source": [
        "data_chloride_108_value.groupby(['gender']).agg({'standard_lab_parameter_name':'count'}).plot(kind='bar',figsize=(7,5))"
      ],
      "id": "XM4r7ESTQeLx",
      "execution_count": 70,
      "outputs": [
        {
          "output_type": "execute_result",
          "data": {
            "text/plain": [
              "<matplotlib.axes._subplots.AxesSubplot at 0x7f2530b6b350>"
            ]
          },
          "metadata": {},
          "execution_count": 70
        },
        {
          "output_type": "display_data",
          "data": {
            "image/png": "[encoded data removed]",
            "text/plain": [
              "<Figure size 504x360 with 1 Axes>"
            ]
          },
          "metadata": {
            "needs_background": "light"
          }
        }
      ]
    },
    {
      "cell_type": "code",
      "metadata": {
        "colab": {
          "base_uri": "https://localhost:8080/",
          "height": 142
        },
        "id": "Xu34r_OuQtd_",
        "outputId": "8a4e1162-fecc-4bb8-8348-8b838f4c7de0"
      },
      "source": [
        "data_chloride_95_value = data.loc[data['parameter_value'] < 95]\n",
        "data_chloride_95_value.groupby(['gender']).agg({'standard_lab_parameter_name':'count'})"
      ],
      "id": "Xu34r_OuQtd_",
      "execution_count": 71,
      "outputs": [
        {
          "output_type": "execute_result",
          "data": {
            "text/html": [
              "<div>\n",
              "<style scoped>\n",
              "    .dataframe tbody tr th:only-of-type {\n",
              "        vertical-align: middle;\n",
              "    }\n",
              "\n",
              "    .dataframe tbody tr th {\n",
              "        vertical-align: top;\n",
              "    }\n",
              "\n",
              "    .dataframe thead th {\n",
              "        text-align: right;\n",
              "    }\n",
              "</style>\n",
              "<table border=\"1\" class=\"dataframe\">\n",
              "  <thead>\n",
              "    <tr style=\"text-align: right;\">\n",
              "      <th></th>\n",
              "      <th>standard_lab_parameter_name</th>\n",
              "    </tr>\n",
              "    <tr>\n",
              "      <th>gender</th>\n",
              "      <th></th>\n",
              "    </tr>\n",
              "  </thead>\n",
              "  <tbody>\n",
              "    <tr>\n",
              "      <th>female</th>\n",
              "      <td>2</td>\n",
              "    </tr>\n",
              "    <tr>\n",
              "      <th>male</th>\n",
              "      <td>29</td>\n",
              "    </tr>\n",
              "  </tbody>\n",
              "</table>\n",
              "</div>"
            ],
            "text/plain": [
              "        standard_lab_parameter_name\n",
              "gender                             \n",
              "female                            2\n",
              "male                             29"
            ]
          },
          "metadata": {},
          "execution_count": 71
        }
      ]
    },
    {
      "cell_type": "code",
      "metadata": {
        "colab": {
          "base_uri": "https://localhost:8080/",
          "height": 375
        },
        "id": "yfZSmVNaQ2_P",
        "outputId": "9e710b67-69db-4266-d59d-ccce2a3411fb"
      },
      "source": [
        "data_chloride_95_value.groupby(['gender']).agg({'standard_lab_parameter_name':'count'}).plot(kind='bar',figsize=(7,5))"
      ],
      "id": "yfZSmVNaQ2_P",
      "execution_count": 72,
      "outputs": [
        {
          "output_type": "execute_result",
          "data": {
            "text/plain": [
              "<matplotlib.axes._subplots.AxesSubplot at 0x7f2530b07f50>"
            ]
          },
          "metadata": {},
          "execution_count": 72
        },
        {
          "output_type": "display_data",
          "data": {
            "image/png": "[encoded data removed]",
            "text/plain": [
              "<Figure size 504x360 with 1 Axes>"
            ]
          },
          "metadata": {
            "needs_background": "light"
          }
        }
      ]
    },
    {
      "cell_type": "code",
      "metadata": {
        "colab": {
          "base_uri": "https://localhost:8080/",
          "height": 377
        },
        "id": "cvTfsGNcI8Ju",
        "outputId": "026b6c67-3e2c-4a92-dcc8-23ad52fe82ad"
      },
      "source": [
        "data.groupby(['gender']).agg({'standard_lab_parameter_name':'count'}).plot(kind='bar',figsize=(7,5))"
      ],
      "id": "cvTfsGNcI8Ju",
      "execution_count": 13,
      "outputs": [
        {
          "output_type": "execute_result",
          "data": {
            "text/plain": [
              "<matplotlib.axes._subplots.AxesSubplot at 0x7f253aa63690>"
            ]
          },
          "metadata": {},
          "execution_count": 13
        },
        {
          "output_type": "display_data",
          "data": {
            "image/png": "[encoded data removed]",
            "text/plain": [
              "<Figure size 504x360 with 1 Axes>"
            ]
          },
          "metadata": {
            "needs_background": "light"
          }
        }
      ]
    },
    {
      "cell_type": "code",
      "metadata": {
        "id": "63bbd01d",
        "colab": {
          "base_uri": "https://localhost:8080/",
          "height": 204
        },
        "outputId": "ec08b055-4683-4ca8-d02e-c3c860dee8aa"
      },
      "source": [
        "data.groupby(['age_group']).agg({'standard_lab_parameter_name':'count'})"
      ],
      "id": "63bbd01d",
      "execution_count": 63,
      "outputs": [
        {
          "output_type": "execute_result",
          "data": {
            "text/html": [
              "<div>\n",
              "<style scoped>\n",
              "    .dataframe tbody tr th:only-of-type {\n",
              "        vertical-align: middle;\n",
              "    }\n",
              "\n",
              "    .dataframe tbody tr th {\n",
              "        vertical-align: top;\n",
              "    }\n",
              "\n",
              "    .dataframe thead th {\n",
              "        text-align: right;\n",
              "    }\n",
              "</style>\n",
              "<table border=\"1\" class=\"dataframe\">\n",
              "  <thead>\n",
              "    <tr style=\"text-align: right;\">\n",
              "      <th></th>\n",
              "      <th>standard_lab_parameter_name</th>\n",
              "    </tr>\n",
              "    <tr>\n",
              "      <th>age_group</th>\n",
              "      <th></th>\n",
              "    </tr>\n",
              "  </thead>\n",
              "  <tbody>\n",
              "    <tr>\n",
              "      <th>adult</th>\n",
              "      <td>1808</td>\n",
              "    </tr>\n",
              "    <tr>\n",
              "      <th>child</th>\n",
              "      <td>23</td>\n",
              "    </tr>\n",
              "    <tr>\n",
              "      <th>old</th>\n",
              "      <td>573</td>\n",
              "    </tr>\n",
              "    <tr>\n",
              "      <th>teen</th>\n",
              "      <td>23</td>\n",
              "    </tr>\n",
              "  </tbody>\n",
              "</table>\n",
              "</div>"
            ],
            "text/plain": [
              "           standard_lab_parameter_name\n",
              "age_group                             \n",
              "adult                             1808\n",
              "child                               23\n",
              "old                                573\n",
              "teen                                23"
            ]
          },
          "metadata": {},
          "execution_count": 63
        }
      ]
    },
    {
      "cell_type": "markdown",
      "metadata": {
        "id": "BkfoFn-6FntX"
      },
      "source": [
        "## WBC Analysis"
      ],
      "id": "BkfoFn-6FntX"
    },
    {
      "cell_type": "code",
      "metadata": {
        "ExecuteTime": {
          "end_time": "2021-10-02T08:58:02.833166Z",
          "start_time": "2021-10-02T08:58:02.776421Z"
        },
        "colab": {
          "base_uri": "https://localhost:8080/",
          "height": 204
        },
        "id": "x2vcWKbFFntZ",
        "outputId": "10e4639c-878c-4266-e38b-ce43b0f8f9de"
      },
      "source": [
        "train = pd.read_csv(\"training_data.csv\")\n",
        "test = pd.read_csv('test_data.csv')\n",
        "\n",
        "test = test.loc[:, ~test.columns.str.contains('^Unnamed')]\n",
        "\n",
        "\n",
        "data = pd.concat([train,test],axis=0)\n",
        "data.sample(5)"
      ],
      "id": "x2vcWKbFFntZ",
      "execution_count": 5,
      "outputs": [
        {
          "output_type": "execute_result",
          "data": {
            "text/html": [
              "<div>\n",
              "<style scoped>\n",
              "    .dataframe tbody tr th:only-of-type {\n",
              "        vertical-align: middle;\n",
              "    }\n",
              "\n",
              "    .dataframe tbody tr th {\n",
              "        vertical-align: top;\n",
              "    }\n",
              "\n",
              "    .dataframe thead th {\n",
              "        text-align: right;\n",
              "    }\n",
              "</style>\n",
              "<table border=\"1\" class=\"dataframe\">\n",
              "  <thead>\n",
              "    <tr style=\"text-align: right;\">\n",
              "      <th></th>\n",
              "      <th>patient_id</th>\n",
              "      <th>standard_lab_parameter_name</th>\n",
              "      <th>parameter_value</th>\n",
              "      <th>unit</th>\n",
              "      <th>created_at</th>\n",
              "      <th>reference_high</th>\n",
              "      <th>reference_low</th>\n",
              "      <th>age_group</th>\n",
              "      <th>gender</th>\n",
              "    </tr>\n",
              "  </thead>\n",
              "  <tbody>\n",
              "    <tr>\n",
              "      <th>5003</th>\n",
              "      <td>5003</td>\n",
              "      <td>WBC</td>\n",
              "      <td>7.2</td>\n",
              "      <td>10^3/μi</td>\n",
              "      <td>2019-11-28 02:28:01.746787+00:00</td>\n",
              "      <td>10.0</td>\n",
              "      <td>4.0</td>\n",
              "      <td>adult</td>\n",
              "      <td>male</td>\n",
              "    </tr>\n",
              "    <tr>\n",
              "      <th>8110</th>\n",
              "      <td>8110</td>\n",
              "      <td>WBC</td>\n",
              "      <td>9.3</td>\n",
              "      <td>10^3/μi</td>\n",
              "      <td>2020-11-18 13:49:56.770378+00:00</td>\n",
              "      <td>10.0</td>\n",
              "      <td>4.0</td>\n",
              "      <td>adult</td>\n",
              "      <td>NaN</td>\n",
              "    </tr>\n",
              "    <tr>\n",
              "      <th>5492</th>\n",
              "      <td>5492</td>\n",
              "      <td>WBC</td>\n",
              "      <td>6.6</td>\n",
              "      <td>10^3/μl</td>\n",
              "      <td>2020-11-11 15:28:41.958324+00:00</td>\n",
              "      <td>10.0</td>\n",
              "      <td>4.0</td>\n",
              "      <td>adult</td>\n",
              "      <td>NaN</td>\n",
              "    </tr>\n",
              "    <tr>\n",
              "      <th>2895</th>\n",
              "      <td>2895</td>\n",
              "      <td>Sodium</td>\n",
              "      <td>140.0</td>\n",
              "      <td>mmol/l</td>\n",
              "      <td>2020-11-18 14:52:38.659789+00:00</td>\n",
              "      <td>145.0</td>\n",
              "      <td>136.0</td>\n",
              "      <td>adult</td>\n",
              "      <td>NaN</td>\n",
              "    </tr>\n",
              "    <tr>\n",
              "      <th>2255</th>\n",
              "      <td>2255</td>\n",
              "      <td>T4</td>\n",
              "      <td>9.4</td>\n",
              "      <td>μg/dl</td>\n",
              "      <td>2019-11-19 08:53:09.846000+00:00</td>\n",
              "      <td>12.0</td>\n",
              "      <td>4.5</td>\n",
              "      <td>adult</td>\n",
              "      <td>male</td>\n",
              "    </tr>\n",
              "  </tbody>\n",
              "</table>\n",
              "</div>"
            ],
            "text/plain": [
              "      patient_id standard_lab_parameter_name  ...  age_group gender\n",
              "5003        5003                         WBC  ...      adult   male\n",
              "8110        8110                         WBC  ...      adult    NaN\n",
              "5492        5492                         WBC  ...      adult    NaN\n",
              "2895        2895                      Sodium  ...      adult    NaN\n",
              "2255        2255                          T4  ...      adult   male\n",
              "\n",
              "[5 rows x 9 columns]"
            ]
          },
          "metadata": {},
          "execution_count": 5
        }
      ]
    },
    {
      "cell_type": "code",
      "metadata": {
        "ExecuteTime": {
          "end_time": "2021-10-02T08:59:16.385366Z",
          "start_time": "2021-10-02T08:59:16.339194Z"
        },
        "colab": {
          "base_uri": "https://localhost:8080/",
          "height": 204
        },
        "id": "s0XSyqg8Fntb",
        "outputId": "2fe64c17-4d7f-4b1e-abca-1906df24cc99"
      },
      "source": [
        "data = data.loc[data['standard_lab_parameter_name']=='WBC']\n",
        "data.sample(5)"
      ],
      "id": "s0XSyqg8Fntb",
      "execution_count": 6,
      "outputs": [
        {
          "output_type": "execute_result",
          "data": {
            "text/html": [
              "<div>\n",
              "<style scoped>\n",
              "    .dataframe tbody tr th:only-of-type {\n",
              "        vertical-align: middle;\n",
              "    }\n",
              "\n",
              "    .dataframe tbody tr th {\n",
              "        vertical-align: top;\n",
              "    }\n",
              "\n",
              "    .dataframe thead th {\n",
              "        text-align: right;\n",
              "    }\n",
              "</style>\n",
              "<table border=\"1\" class=\"dataframe\">\n",
              "  <thead>\n",
              "    <tr style=\"text-align: right;\">\n",
              "      <th></th>\n",
              "      <th>patient_id</th>\n",
              "      <th>standard_lab_parameter_name</th>\n",
              "      <th>parameter_value</th>\n",
              "      <th>unit</th>\n",
              "      <th>created_at</th>\n",
              "      <th>reference_high</th>\n",
              "      <th>reference_low</th>\n",
              "      <th>age_group</th>\n",
              "      <th>gender</th>\n",
              "    </tr>\n",
              "  </thead>\n",
              "  <tbody>\n",
              "    <tr>\n",
              "      <th>3992</th>\n",
              "      <td>3992</td>\n",
              "      <td>WBC</td>\n",
              "      <td>5.90</td>\n",
              "      <td>x 10³ / µl</td>\n",
              "      <td>2019-11-23 13:38:41.224</td>\n",
              "      <td>10.0</td>\n",
              "      <td>4.0</td>\n",
              "      <td>adult</td>\n",
              "      <td>male</td>\n",
              "    </tr>\n",
              "    <tr>\n",
              "      <th>3245</th>\n",
              "      <td>3245</td>\n",
              "      <td>WBC</td>\n",
              "      <td>6.02</td>\n",
              "      <td>10^3/μl</td>\n",
              "      <td>2020-11-15 12:23:40.893840+00:00</td>\n",
              "      <td>9.7</td>\n",
              "      <td>5.4</td>\n",
              "      <td>child</td>\n",
              "      <td>NaN</td>\n",
              "    </tr>\n",
              "    <tr>\n",
              "      <th>2314</th>\n",
              "      <td>2314</td>\n",
              "      <td>WBC</td>\n",
              "      <td>7.80</td>\n",
              "      <td>10^3/μl</td>\n",
              "      <td>2020-11-03 16:07:31.543883+00:00</td>\n",
              "      <td>10.0</td>\n",
              "      <td>4.0</td>\n",
              "      <td>adult</td>\n",
              "      <td>NaN</td>\n",
              "    </tr>\n",
              "    <tr>\n",
              "      <th>7293</th>\n",
              "      <td>7293</td>\n",
              "      <td>WBC</td>\n",
              "      <td>9.84</td>\n",
              "      <td>10^3/μl</td>\n",
              "      <td>2019-10-02 13:31:24.878144+00:00</td>\n",
              "      <td>10.0</td>\n",
              "      <td>4.0</td>\n",
              "      <td>adult</td>\n",
              "      <td>male</td>\n",
              "    </tr>\n",
              "    <tr>\n",
              "      <th>1280</th>\n",
              "      <td>1280</td>\n",
              "      <td>WBC</td>\n",
              "      <td>8.90</td>\n",
              "      <td>10^3/μi</td>\n",
              "      <td>2020-11-20 13:54:23.580817+00:00</td>\n",
              "      <td>10.0</td>\n",
              "      <td>4.0</td>\n",
              "      <td>adult</td>\n",
              "      <td>NaN</td>\n",
              "    </tr>\n",
              "  </tbody>\n",
              "</table>\n",
              "</div>"
            ],
            "text/plain": [
              "      patient_id standard_lab_parameter_name  ...  age_group gender\n",
              "3992        3992                         WBC  ...      adult   male\n",
              "3245        3245                         WBC  ...      child    NaN\n",
              "2314        2314                         WBC  ...      adult    NaN\n",
              "7293        7293                         WBC  ...      adult   male\n",
              "1280        1280                         WBC  ...      adult    NaN\n",
              "\n",
              "[5 rows x 9 columns]"
            ]
          },
          "metadata": {},
          "execution_count": 6
        }
      ]
    },
    {
      "cell_type": "code",
      "metadata": {
        "ExecuteTime": {
          "end_time": "2021-10-02T09:00:24.110510Z",
          "start_time": "2021-10-02T09:00:23.966468Z"
        },
        "colab": {
          "base_uri": "https://localhost:8080/",
          "height": 366
        },
        "id": "37t8aT-bFntc",
        "outputId": "485a9d39-ef5e-4c5c-cbb9-e5f700c28e8c"
      },
      "source": [
        "data.groupby(['age_group']).agg({'standard_lab_parameter_name':'count'}).plot(kind='bar',figsize=(7,5))"
      ],
      "id": "37t8aT-bFntc",
      "execution_count": 7,
      "outputs": [
        {
          "output_type": "execute_result",
          "data": {
            "text/plain": [
              "<matplotlib.axes._subplots.AxesSubplot at 0x7f253f9c4fd0>"
            ]
          },
          "metadata": {},
          "execution_count": 7
        },
        {
          "output_type": "display_data",
          "data": {
            "image/png": "[encoded data removed]",
            "text/plain": [
              "<Figure size 504x360 with 1 Axes>"
            ]
          },
          "metadata": {
            "needs_background": "light"
          }
        }
      ]
    },
    {
      "cell_type": "markdown",
      "metadata": {
        "id": "Vl5itBKAGZ7n"
      },
      "source": [
        "## T4 Analysis"
      ],
      "id": "Vl5itBKAGZ7n"
    },
    {
      "cell_type": "code",
      "metadata": {
        "ExecuteTime": {
          "end_time": "2021-10-02T08:58:02.833166Z",
          "start_time": "2021-10-02T08:58:02.776421Z"
        },
        "colab": {
          "base_uri": "https://localhost:8080/",
          "height": 255
        },
        "id": "eJjlJKv4GZ7z",
        "outputId": "227f162a-2700-4fcb-d0cd-16c14e496b6e"
      },
      "source": [
        "train = pd.read_csv(\"training_data.csv\")\n",
        "test = pd.read_csv('test_data.csv')\n",
        "\n",
        "test = test.loc[:, ~test.columns.str.contains('^Unnamed')]\n",
        "\n",
        "\n",
        "data = pd.concat([train,test],axis=0)\n",
        "data.sample(5)"
      ],
      "id": "eJjlJKv4GZ7z",
      "execution_count": 8,
      "outputs": [
        {
          "output_type": "execute_result",
          "data": {
            "text/html": [
              "<div>\n",
              "<style scoped>\n",
              "    .dataframe tbody tr th:only-of-type {\n",
              "        vertical-align: middle;\n",
              "    }\n",
              "\n",
              "    .dataframe tbody tr th {\n",
              "        vertical-align: top;\n",
              "    }\n",
              "\n",
              "    .dataframe thead th {\n",
              "        text-align: right;\n",
              "    }\n",
              "</style>\n",
              "<table border=\"1\" class=\"dataframe\">\n",
              "  <thead>\n",
              "    <tr style=\"text-align: right;\">\n",
              "      <th></th>\n",
              "      <th>patient_id</th>\n",
              "      <th>standard_lab_parameter_name</th>\n",
              "      <th>parameter_value</th>\n",
              "      <th>unit</th>\n",
              "      <th>created_at</th>\n",
              "      <th>reference_high</th>\n",
              "      <th>reference_low</th>\n",
              "      <th>age_group</th>\n",
              "      <th>gender</th>\n",
              "    </tr>\n",
              "  </thead>\n",
              "  <tbody>\n",
              "    <tr>\n",
              "      <th>4708</th>\n",
              "      <td>4708</td>\n",
              "      <td>WBC</td>\n",
              "      <td>10.80</td>\n",
              "      <td>10^3/&amp;micro;i</td>\n",
              "      <td>2019-12-24 15:27:59.396</td>\n",
              "      <td>10.0</td>\n",
              "      <td>4.0</td>\n",
              "      <td>adult</td>\n",
              "      <td>male</td>\n",
              "    </tr>\n",
              "    <tr>\n",
              "      <th>9363</th>\n",
              "      <td>9363</td>\n",
              "      <td>WBC</td>\n",
              "      <td>6.60</td>\n",
              "      <td>10^3/μi</td>\n",
              "      <td>2020-10-31 13:31:52.009944+00:00</td>\n",
              "      <td>10.0</td>\n",
              "      <td>4.0</td>\n",
              "      <td>adult</td>\n",
              "      <td>NaN</td>\n",
              "    </tr>\n",
              "    <tr>\n",
              "      <th>9316</th>\n",
              "      <td>9316</td>\n",
              "      <td>WBC</td>\n",
              "      <td>7.02</td>\n",
              "      <td>10^3/μl</td>\n",
              "      <td>2019-12-17 14:17:48.585883+00:00</td>\n",
              "      <td>10.0</td>\n",
              "      <td>4.0</td>\n",
              "      <td>adult</td>\n",
              "      <td>male</td>\n",
              "    </tr>\n",
              "    <tr>\n",
              "      <th>6892</th>\n",
              "      <td>6892</td>\n",
              "      <td>Chloride</td>\n",
              "      <td>104.90</td>\n",
              "      <td>mmol/l</td>\n",
              "      <td>2019-10-15 12:54:19.588516+00:00</td>\n",
              "      <td>107.0</td>\n",
              "      <td>98.0</td>\n",
              "      <td>adult</td>\n",
              "      <td>male</td>\n",
              "    </tr>\n",
              "    <tr>\n",
              "      <th>2690</th>\n",
              "      <td>2690</td>\n",
              "      <td>T4</td>\n",
              "      <td>5.90</td>\n",
              "      <td>µg/dl</td>\n",
              "      <td>2019-06-26 22:37:08.787</td>\n",
              "      <td>12.0</td>\n",
              "      <td>4.5</td>\n",
              "      <td>adult</td>\n",
              "      <td>male</td>\n",
              "    </tr>\n",
              "  </tbody>\n",
              "</table>\n",
              "</div>"
            ],
            "text/plain": [
              "      patient_id standard_lab_parameter_name  ...  age_group gender\n",
              "4708        4708                         WBC  ...      adult   male\n",
              "9363        9363                         WBC  ...      adult    NaN\n",
              "9316        9316                         WBC  ...      adult   male\n",
              "6892        6892                    Chloride  ...      adult   male\n",
              "2690        2690                          T4  ...      adult   male\n",
              "\n",
              "[5 rows x 9 columns]"
            ]
          },
          "metadata": {},
          "execution_count": 8
        }
      ]
    },
    {
      "cell_type": "code",
      "metadata": {
        "ExecuteTime": {
          "end_time": "2021-10-02T08:59:16.385366Z",
          "start_time": "2021-10-02T08:59:16.339194Z"
        },
        "colab": {
          "base_uri": "https://localhost:8080/",
          "height": 204
        },
        "id": "LvSB3IKRGZ70",
        "outputId": "4d3e6ca6-533c-4af6-ebfa-c5a1280643d0"
      },
      "source": [
        "data = data.loc[data['standard_lab_parameter_name']=='T4']\n",
        "data.sample(5)"
      ],
      "id": "LvSB3IKRGZ70",
      "execution_count": 9,
      "outputs": [
        {
          "output_type": "execute_result",
          "data": {
            "text/html": [
              "<div>\n",
              "<style scoped>\n",
              "    .dataframe tbody tr th:only-of-type {\n",
              "        vertical-align: middle;\n",
              "    }\n",
              "\n",
              "    .dataframe tbody tr th {\n",
              "        vertical-align: top;\n",
              "    }\n",
              "\n",
              "    .dataframe thead th {\n",
              "        text-align: right;\n",
              "    }\n",
              "</style>\n",
              "<table border=\"1\" class=\"dataframe\">\n",
              "  <thead>\n",
              "    <tr style=\"text-align: right;\">\n",
              "      <th></th>\n",
              "      <th>patient_id</th>\n",
              "      <th>standard_lab_parameter_name</th>\n",
              "      <th>parameter_value</th>\n",
              "      <th>unit</th>\n",
              "      <th>created_at</th>\n",
              "      <th>reference_high</th>\n",
              "      <th>reference_low</th>\n",
              "      <th>age_group</th>\n",
              "      <th>gender</th>\n",
              "    </tr>\n",
              "  </thead>\n",
              "  <tbody>\n",
              "    <tr>\n",
              "      <th>3297</th>\n",
              "      <td>3297</td>\n",
              "      <td>T4</td>\n",
              "      <td>8.9</td>\n",
              "      <td>μg/dl</td>\n",
              "      <td>2019-11-19 01:07:38.038613+00:00</td>\n",
              "      <td>12.00</td>\n",
              "      <td>4.50</td>\n",
              "      <td>adult</td>\n",
              "      <td>female</td>\n",
              "    </tr>\n",
              "    <tr>\n",
              "      <th>9682</th>\n",
              "      <td>9682</td>\n",
              "      <td>T4</td>\n",
              "      <td>6.8</td>\n",
              "      <td>μg/dl</td>\n",
              "      <td>2019-11-26 14:07:55.901892+00:00</td>\n",
              "      <td>12.00</td>\n",
              "      <td>4.50</td>\n",
              "      <td>old</td>\n",
              "      <td>male</td>\n",
              "    </tr>\n",
              "    <tr>\n",
              "      <th>1760</th>\n",
              "      <td>1760</td>\n",
              "      <td>T4</td>\n",
              "      <td>7.9</td>\n",
              "      <td>μg/dl</td>\n",
              "      <td>2020-11-12 07:33:44.645007+00:00</td>\n",
              "      <td>12.00</td>\n",
              "      <td>4.50</td>\n",
              "      <td>adult</td>\n",
              "      <td>NaN</td>\n",
              "    </tr>\n",
              "    <tr>\n",
              "      <th>6385</th>\n",
              "      <td>6385</td>\n",
              "      <td>T4</td>\n",
              "      <td>9.6</td>\n",
              "      <td>μg/dl</td>\n",
              "      <td>2019-09-14 07:33:40.414533+00:00</td>\n",
              "      <td>12.00</td>\n",
              "      <td>4.50</td>\n",
              "      <td>adult</td>\n",
              "      <td>male</td>\n",
              "    </tr>\n",
              "    <tr>\n",
              "      <th>7286</th>\n",
              "      <td>7286</td>\n",
              "      <td>T4</td>\n",
              "      <td>5.8</td>\n",
              "      <td>μg/dl</td>\n",
              "      <td>2020-11-16 16:08:32.290193+00:00</td>\n",
              "      <td>11.72</td>\n",
              "      <td>4.87</td>\n",
              "      <td>adult</td>\n",
              "      <td>NaN</td>\n",
              "    </tr>\n",
              "  </tbody>\n",
              "</table>\n",
              "</div>"
            ],
            "text/plain": [
              "      patient_id standard_lab_parameter_name  ...  age_group  gender\n",
              "3297        3297                          T4  ...      adult  female\n",
              "9682        9682                          T4  ...        old    male\n",
              "1760        1760                          T4  ...      adult     NaN\n",
              "6385        6385                          T4  ...      adult    male\n",
              "7286        7286                          T4  ...      adult     NaN\n",
              "\n",
              "[5 rows x 9 columns]"
            ]
          },
          "metadata": {},
          "execution_count": 9
        }
      ]
    },
    {
      "cell_type": "code",
      "metadata": {
        "ExecuteTime": {
          "end_time": "2021-10-02T09:00:24.110510Z",
          "start_time": "2021-10-02T09:00:23.966468Z"
        },
        "colab": {
          "base_uri": "https://localhost:8080/",
          "height": 366
        },
        "id": "wRGO93rBGZ71",
        "outputId": "2008c57c-162a-4052-dd00-b3784cfb1c0e"
      },
      "source": [
        "data.groupby(['age_group']).agg({'standard_lab_parameter_name':'count'}).plot(kind='bar',figsize=(7,5))"
      ],
      "id": "wRGO93rBGZ71",
      "execution_count": 10,
      "outputs": [
        {
          "output_type": "execute_result",
          "data": {
            "text/plain": [
              "<matplotlib.axes._subplots.AxesSubplot at 0x7f253b04c410>"
            ]
          },
          "metadata": {},
          "execution_count": 10
        },
        {
          "output_type": "display_data",
          "data": {
            "image/png": "[encoded data removed]",
            "text/plain": [
              "<Figure size 504x360 with 1 Axes>"
            ]
          },
          "metadata": {
            "needs_background": "light"
          }
        }
      ]
    },
    {
      "cell_type": "code",
      "metadata": {
        "id": "C9J0u91xGgxy"
      },
      "source": [
        ""
      ],
      "id": "C9J0u91xGgxy",
      "execution_count": null,
      "outputs": []
    }
  ]
}